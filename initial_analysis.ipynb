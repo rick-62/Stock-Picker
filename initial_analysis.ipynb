{
 "cells": [
  {
   "cell_type": "markdown",
   "metadata": {},
   "source": [
    "# Import stock data"
   ]
  },
  {
   "cell_type": "markdown",
   "metadata": {},
   "source": [
    "To begin with I'm going to pick a well known stock, from the FTSE100.\n",
    "I've chosen Barclay's (ticker: BARC), purely at random.\n",
    "\n",
    "The next step is to import historic pricing data.\n",
    "To do this we can use ~~Google or Yahoo, via Pandas_datareader~~ Alpha Vantage, as Google/Yahoo no longer work properly."
   ]
  },
  {
   "cell_type": "code",
   "execution_count": 18,
   "metadata": {
    "collapsed": false
   },
   "outputs": [],
   "source": [
    "from alpha_vantage.timeseries import TimeSeries\n",
    "import my_api\n",
    "key = my_api.key\n",
    "ts = TimeSeries(key=key, output_format='pandas')"
   ]
  },
  {
   "cell_type": "code",
   "execution_count": 6,
   "metadata": {
    "collapsed": false
   },
   "outputs": [],
   "source": [
    "data, meta_data = ts.get_daily_adjusted(symbol='BARC.L', outputsize='full')"
   ]
  },
  {
   "cell_type": "code",
   "execution_count": 27,
   "metadata": {
    "collapsed": false
   },
   "outputs": [
    {
     "data": {
      "text/plain": [
       "{'1. Information': 'Daily Time Series with Splits and Dividend Events',\n",
       " '2. Symbol': 'BARC.L',\n",
       " '3. Last Refreshed': '2018-01-19',\n",
       " '4. Output Size': 'Full size',\n",
       " '5. Time Zone': 'US/Eastern'}"
      ]
     },
     "execution_count": 27,
     "metadata": {},
     "output_type": "execute_result"
    }
   ],
   "source": [
    "meta_data"
   ]
  },
  {
   "cell_type": "code",
   "execution_count": null,
   "metadata": {
    "collapsed": true
   },
   "outputs": [],
   "source": []
  }
 ],
 "metadata": {
  "kernelspec": {
   "display_name": "Python [default]",
   "language": "python",
   "name": "python3"
  },
  "language_info": {
   "codemirror_mode": {
    "name": "ipython",
    "version": 3
   },
   "file_extension": ".py",
   "mimetype": "text/x-python",
   "name": "python",
   "nbconvert_exporter": "python",
   "pygments_lexer": "ipython3",
   "version": "3.5.2"
  }
 },
 "nbformat": 4,
 "nbformat_minor": 2
}
