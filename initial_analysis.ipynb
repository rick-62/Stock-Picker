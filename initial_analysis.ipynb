{
 "cells": [
  {
   "cell_type": "markdown",
   "metadata": {},
   "source": [
    "# Import stock data"
   ]
  },
  {
   "cell_type": "markdown",
   "metadata": {},
   "source": [
    "To begin with I'm going to pick a well known stock, from the FTSE100.\n",
    "I've chosen Barclay's (ticker: BARC), purely at random.\n",
    "\n",
    "The next step is to import historic pricing data.\n",
    "To do this we can use ~~Google or Yahoo, via Pandas_datareader~~ Alpha Vantage, as Google/Yahoo no longer work properly."
   ]
  },
  {
   "cell_type": "code",
   "execution_count": 1,
   "metadata": {
    "collapsed": false
   },
   "outputs": [],
   "source": [
    "from alpha_vantage.timeseries import TimeSeries\n",
    "import my_api\n",
    "key = my_api.key\n",
    "ts = TimeSeries(key=key, output_format='pandas')"
   ]
  },
  {
   "cell_type": "code",
   "execution_count": 2,
   "metadata": {
    "collapsed": false
   },
   "outputs": [],
   "source": [
    "data, meta_data = ts.get_daily_adjusted(symbol='BARC.L', outputsize='full')"
   ]
  },
  {
   "cell_type": "code",
   "execution_count": 3,
   "metadata": {
    "collapsed": false,
    "scrolled": true
   },
   "outputs": [
    {
     "data": {
      "text/html": [
       "<div>\n",
       "<table border=\"1\" class=\"dataframe\">\n",
       "  <thead>\n",
       "    <tr style=\"text-align: right;\">\n",
       "      <th></th>\n",
       "      <th>2. high</th>\n",
       "      <th>5. adjusted close</th>\n",
       "      <th>1. open</th>\n",
       "      <th>8. split coefficient</th>\n",
       "      <th>4. close</th>\n",
       "      <th>6. volume</th>\n",
       "      <th>3. low</th>\n",
       "      <th>7. dividend amount</th>\n",
       "    </tr>\n",
       "    <tr>\n",
       "      <th>date</th>\n",
       "      <th></th>\n",
       "      <th></th>\n",
       "      <th></th>\n",
       "      <th></th>\n",
       "      <th></th>\n",
       "      <th></th>\n",
       "      <th></th>\n",
       "      <th></th>\n",
       "    </tr>\n",
       "  </thead>\n",
       "  <tbody>\n",
       "    <tr>\n",
       "      <th>2000-01-03</th>\n",
       "      <td>411.528</td>\n",
       "      <td>220.3322</td>\n",
       "      <td>411.528</td>\n",
       "      <td>1.0</td>\n",
       "      <td>411.528</td>\n",
       "      <td>0.0</td>\n",
       "      <td>411.528</td>\n",
       "      <td>0.0</td>\n",
       "    </tr>\n",
       "    <tr>\n",
       "      <th>2000-01-04</th>\n",
       "      <td>411.759</td>\n",
       "      <td>206.4840</td>\n",
       "      <td>411.528</td>\n",
       "      <td>1.0</td>\n",
       "      <td>385.663</td>\n",
       "      <td>279934682.0</td>\n",
       "      <td>384.509</td>\n",
       "      <td>0.0</td>\n",
       "    </tr>\n",
       "    <tr>\n",
       "      <th>2000-01-05</th>\n",
       "      <td>387.511</td>\n",
       "      <td>201.5385</td>\n",
       "      <td>387.049</td>\n",
       "      <td>1.0</td>\n",
       "      <td>376.426</td>\n",
       "      <td>257475840.0</td>\n",
       "      <td>374.117</td>\n",
       "      <td>0.0</td>\n",
       "    </tr>\n",
       "    <tr>\n",
       "      <th>2000-01-06</th>\n",
       "      <td>383.354</td>\n",
       "      <td>193.9963</td>\n",
       "      <td>383.354</td>\n",
       "      <td>1.0</td>\n",
       "      <td>362.339</td>\n",
       "      <td>504884346.0</td>\n",
       "      <td>360.260</td>\n",
       "      <td>0.0</td>\n",
       "    </tr>\n",
       "    <tr>\n",
       "      <th>2000-01-07</th>\n",
       "      <td>373.020</td>\n",
       "      <td>189.6687</td>\n",
       "      <td>357.951</td>\n",
       "      <td>1.0</td>\n",
       "      <td>354.256</td>\n",
       "      <td>553699695.0</td>\n",
       "      <td>349.291</td>\n",
       "      <td>0.0</td>\n",
       "    </tr>\n",
       "  </tbody>\n",
       "</table>\n",
       "</div>"
      ],
      "text/plain": [
       "            2. high  5. adjusted close  1. open  8. split coefficient  \\\n",
       "date                                                                    \n",
       "2000-01-03  411.528           220.3322  411.528                   1.0   \n",
       "2000-01-04  411.759           206.4840  411.528                   1.0   \n",
       "2000-01-05  387.511           201.5385  387.049                   1.0   \n",
       "2000-01-06  383.354           193.9963  383.354                   1.0   \n",
       "2000-01-07  373.020           189.6687  357.951                   1.0   \n",
       "\n",
       "            4. close    6. volume   3. low  7. dividend amount  \n",
       "date                                                            \n",
       "2000-01-03   411.528          0.0  411.528                 0.0  \n",
       "2000-01-04   385.663  279934682.0  384.509                 0.0  \n",
       "2000-01-05   376.426  257475840.0  374.117                 0.0  \n",
       "2000-01-06   362.339  504884346.0  360.260                 0.0  \n",
       "2000-01-07   354.256  553699695.0  349.291                 0.0  "
      ]
     },
     "execution_count": 3,
     "metadata": {},
     "output_type": "execute_result"
    }
   ],
   "source": [
    "data.head()"
   ]
  },
  {
   "cell_type": "markdown",
   "metadata": {},
   "source": [
    "# Check out the data\n",
    "The next step is to take a look at the data, looking for obvious trends, outliers or anything unusual, such as data quality issues."
   ]
  },
  {
   "cell_type": "code",
   "execution_count": 4,
   "metadata": {
    "collapsed": false,
    "scrolled": true
   },
   "outputs": [
    {
     "data": {
      "text/html": [
       "<div>\n",
       "<table border=\"1\" class=\"dataframe\">\n",
       "  <thead>\n",
       "    <tr style=\"text-align: right;\">\n",
       "      <th></th>\n",
       "      <th>2. high</th>\n",
       "      <th>5. adjusted close</th>\n",
       "      <th>1. open</th>\n",
       "      <th>8. split coefficient</th>\n",
       "      <th>4. close</th>\n",
       "      <th>6. volume</th>\n",
       "      <th>3. low</th>\n",
       "      <th>7. dividend amount</th>\n",
       "    </tr>\n",
       "  </thead>\n",
       "  <tbody>\n",
       "    <tr>\n",
       "      <th>count</th>\n",
       "      <td>4612.000000</td>\n",
       "      <td>4612.000000</td>\n",
       "      <td>4612.000000</td>\n",
       "      <td>4612.0</td>\n",
       "      <td>4612.000000</td>\n",
       "      <td>4.612000e+03</td>\n",
       "      <td>4612.000000</td>\n",
       "      <td>4612.0</td>\n",
       "    </tr>\n",
       "    <tr>\n",
       "      <th>mean</th>\n",
       "      <td>360.156528</td>\n",
       "      <td>260.705408</td>\n",
       "      <td>355.007272</td>\n",
       "      <td>1.0</td>\n",
       "      <td>354.702189</td>\n",
       "      <td>9.133801e+07</td>\n",
       "      <td>349.486267</td>\n",
       "      <td>0.0</td>\n",
       "    </tr>\n",
       "    <tr>\n",
       "      <th>std</th>\n",
       "      <td>150.472791</td>\n",
       "      <td>86.762953</td>\n",
       "      <td>149.699576</td>\n",
       "      <td>0.0</td>\n",
       "      <td>149.551072</td>\n",
       "      <td>1.390489e+08</td>\n",
       "      <td>148.658420</td>\n",
       "      <td>0.0</td>\n",
       "    </tr>\n",
       "    <tr>\n",
       "      <th>min</th>\n",
       "      <td>0.000000</td>\n",
       "      <td>0.000000</td>\n",
       "      <td>0.000000</td>\n",
       "      <td>1.0</td>\n",
       "      <td>0.000000</td>\n",
       "      <td>0.000000e+00</td>\n",
       "      <td>0.000000</td>\n",
       "      <td>0.0</td>\n",
       "    </tr>\n",
       "    <tr>\n",
       "      <th>25%</th>\n",
       "      <td>236.172500</td>\n",
       "      <td>207.318400</td>\n",
       "      <td>233.000000</td>\n",
       "      <td>1.0</td>\n",
       "      <td>232.512500</td>\n",
       "      <td>3.009188e+07</td>\n",
       "      <td>229.924500</td>\n",
       "      <td>0.0</td>\n",
       "    </tr>\n",
       "    <tr>\n",
       "      <th>50%</th>\n",
       "      <td>321.856000</td>\n",
       "      <td>242.847300</td>\n",
       "      <td>314.073000</td>\n",
       "      <td>1.0</td>\n",
       "      <td>312.803500</td>\n",
       "      <td>4.499499e+07</td>\n",
       "      <td>305.067000</td>\n",
       "      <td>0.0</td>\n",
       "    </tr>\n",
       "    <tr>\n",
       "      <th>75%</th>\n",
       "      <td>488.430000</td>\n",
       "      <td>293.173825</td>\n",
       "      <td>482.252750</td>\n",
       "      <td>1.0</td>\n",
       "      <td>482.021750</td>\n",
       "      <td>7.416415e+07</td>\n",
       "      <td>475.324750</td>\n",
       "      <td>0.0</td>\n",
       "    </tr>\n",
       "    <tr>\n",
       "      <th>max</th>\n",
       "      <td>733.453000</td>\n",
       "      <td>523.657000</td>\n",
       "      <td>732.530000</td>\n",
       "      <td>1.0</td>\n",
       "      <td>729.758000</td>\n",
       "      <td>2.716864e+09</td>\n",
       "      <td>726.987000</td>\n",
       "      <td>0.0</td>\n",
       "    </tr>\n",
       "  </tbody>\n",
       "</table>\n",
       "</div>"
      ],
      "text/plain": [
       "           2. high  5. adjusted close      1. open  8. split coefficient  \\\n",
       "count  4612.000000        4612.000000  4612.000000                4612.0   \n",
       "mean    360.156528         260.705408   355.007272                   1.0   \n",
       "std     150.472791          86.762953   149.699576                   0.0   \n",
       "min       0.000000           0.000000     0.000000                   1.0   \n",
       "25%     236.172500         207.318400   233.000000                   1.0   \n",
       "50%     321.856000         242.847300   314.073000                   1.0   \n",
       "75%     488.430000         293.173825   482.252750                   1.0   \n",
       "max     733.453000         523.657000   732.530000                   1.0   \n",
       "\n",
       "          4. close     6. volume       3. low  7. dividend amount  \n",
       "count  4612.000000  4.612000e+03  4612.000000              4612.0  \n",
       "mean    354.702189  9.133801e+07   349.486267                 0.0  \n",
       "std     149.551072  1.390489e+08   148.658420                 0.0  \n",
       "min       0.000000  0.000000e+00     0.000000                 0.0  \n",
       "25%     232.512500  3.009188e+07   229.924500                 0.0  \n",
       "50%     312.803500  4.499499e+07   305.067000                 0.0  \n",
       "75%     482.021750  7.416415e+07   475.324750                 0.0  \n",
       "max     729.758000  2.716864e+09   726.987000                 0.0  "
      ]
     },
     "execution_count": 4,
     "metadata": {},
     "output_type": "execute_result"
    }
   ],
   "source": [
    "data.describe()"
   ]
  },
  {
   "cell_type": "code",
   "execution_count": 5,
   "metadata": {
    "collapsed": true
   },
   "outputs": [],
   "source": [
    "import matplotlib.pyplot as plt\n",
    "import seaborn as sns\n",
    "%matplotlib notebook"
   ]
  },
  {
   "cell_type": "code",
   "execution_count": 6,
   "metadata": {
    "collapsed": false
   },
   "outputs": [
    {
     "data": {
      "image/png": "[encoded data removed]",
      "text/plain": [
       "<matplotlib.figure.Figure at 0x1ea74741438>"
      ]
     },
     "metadata": {},
     "output_type": "display_data"
    }
   ],
   "source": [
    "sns.distplot(data['5. adjusted close'])\n",
    "plt.show()"
   ]
  },
  {
   "cell_type": "code",
   "execution_count": 7,
   "metadata": {
    "collapsed": false
   },
   "outputs": [
    {
     "data": {
      "image/png": "[encoded data removed]",
      "text/plain": [
       "<matplotlib.figure.Figure at 0x1ea76c48d68>"
      ]
     },
     "metadata": {},
     "output_type": "display_data"
    }
   ],
   "source": [
    "plt.plot(data.index, data['5. adjusted close'], linestyle='solid')\n",
    "plt.xticks([])\n",
    "plt.show()"
   ]
  },
  {
   "cell_type": "markdown",
   "metadata": {},
   "source": [
    "## Missing data?\n",
    "There are two unusual points on the graph which show a distinct drop to zero. Looks to me like some missing data... "
   ]
  },
  {
   "cell_type": "code",
   "execution_count": 20,
   "metadata": {
    "collapsed": false
   },
   "outputs": [
    {
     "data": {
      "text/html": [
       "<div>\n",
       "<table border=\"1\" class=\"dataframe\">\n",
       "  <thead>\n",
       "    <tr style=\"text-align: right;\">\n",
       "      <th></th>\n",
       "      <th>2. high</th>\n",
       "      <th>5. adjusted close</th>\n",
       "      <th>1. open</th>\n",
       "      <th>8. split coefficient</th>\n",
       "      <th>4. close</th>\n",
       "      <th>6. volume</th>\n",
       "      <th>3. low</th>\n",
       "      <th>7. dividend amount</th>\n",
       "    </tr>\n",
       "    <tr>\n",
       "      <th>date</th>\n",
       "      <th></th>\n",
       "      <th></th>\n",
       "      <th></th>\n",
       "      <th></th>\n",
       "      <th></th>\n",
       "      <th></th>\n",
       "      <th></th>\n",
       "      <th></th>\n",
       "    </tr>\n",
       "  </thead>\n",
       "  <tbody>\n",
       "    <tr>\n",
       "      <th>2011-04-29</th>\n",
       "      <td>0.0</td>\n",
       "      <td>0.0</td>\n",
       "      <td>0.0</td>\n",
       "      <td>1.0</td>\n",
       "      <td>0.0</td>\n",
       "      <td>0.0</td>\n",
       "      <td>0.0</td>\n",
       "      <td>0.0</td>\n",
       "    </tr>\n",
       "    <tr>\n",
       "      <th>2017-10-06</th>\n",
       "      <td>0.0</td>\n",
       "      <td>0.0</td>\n",
       "      <td>0.0</td>\n",
       "      <td>1.0</td>\n",
       "      <td>0.0</td>\n",
       "      <td>0.0</td>\n",
       "      <td>0.0</td>\n",
       "      <td>0.0</td>\n",
       "    </tr>\n",
       "  </tbody>\n",
       "</table>\n",
       "</div>"
      ],
      "text/plain": [
       "            2. high  5. adjusted close  1. open  8. split coefficient  \\\n",
       "date                                                                    \n",
       "2011-04-29      0.0                0.0      0.0                   1.0   \n",
       "2017-10-06      0.0                0.0      0.0                   1.0   \n",
       "\n",
       "            4. close  6. volume  3. low  7. dividend amount  \n",
       "date                                                         \n",
       "2011-04-29       0.0        0.0     0.0                 0.0  \n",
       "2017-10-06       0.0        0.0     0.0                 0.0  "
      ]
     },
     "execution_count": 20,
     "metadata": {},
     "output_type": "execute_result"
    }
   ],
   "source": [
    "missing_data = data[data['5. adjusted close'] == 0]\n",
    "missing_data"
   ]
  },
  {
   "cell_type": "code",
   "execution_count": 15,
   "metadata": {
    "collapsed": false
   },
   "outputs": [],
   "source": [
    "import pandas as pd\n",
    "data.index = pd.to_datetime(data.index, format=\"%Y-%m-%d\")\n",
    "missing_data = data[data['5. adjusted close'] == 0]"
   ]
  },
  {
   "cell_type": "code",
   "execution_count": 29,
   "metadata": {
    "collapsed": false
   },
   "outputs": [
    {
     "data": {
      "text/plain": [
       "[4, 4]"
      ]
     },
     "execution_count": 29,
     "metadata": {},
     "output_type": "execute_result"
    }
   ],
   "source": [
    "[d.weekday() for d in missing_data.index.tolist()]"
   ]
  },
  {
   "cell_type": "markdown",
   "metadata": {},
   "source": [
    "Both of these dates occur on Friday (0123456 => mtwtfss). \n",
    "The missing data can be found from yahoo finance and from the Barclays investors page.\n",
    "The source of the missing data is most likely due to the data supplied by Alpha Vantage. \n",
    "The missing values could be removed or filled in with the average of the two days preceeding and following."
   ]
  },
  {
   "cell_type": "code",
   "execution_count": null,
   "metadata": {
    "collapsed": true
   },
   "outputs": [],
   "source": []
  }
 ],
 "metadata": {
  "kernelspec": {
   "display_name": "Python [conda env:stock-picker]",
   "language": "python",
   "name": "conda-env-stock-picker-py"
  },
  "language_info": {
   "codemirror_mode": {
    "name": "ipython",
    "version": 3
   },
   "file_extension": ".py",
   "mimetype": "text/x-python",
   "name": "python",
   "nbconvert_exporter": "python",
   "pygments_lexer": "ipython3",
   "version": "3.5.4"
  }
 },
 "nbformat": 4,
 "nbformat_minor": 2
}
